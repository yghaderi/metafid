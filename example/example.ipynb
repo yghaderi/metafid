{
 "cells": [
  {
   "cell_type": "code",
   "execution_count": 2,
   "metadata": {},
   "outputs": [],
   "source": [
    "from metafid.deriv import Pricing\n",
    "from metafid.deriv import OptionStrategy\n",
    "import pandas as pd\n",
    "import jdatetime"
   ]
  },
  {
   "cell_type": "code",
   "execution_count": 3,
   "metadata": {},
   "outputs": [
    {
     "data": {
      "text/plain": [
       "'1401-12-19'"
      ]
     },
     "execution_count": 3,
     "metadata": {},
     "output_type": "execute_result"
    }
   ],
   "source": [
    "today = jdatetime.date.today().strftime(\"%Y-%m-%d\")\n",
    "today"
   ]
  },
  {
   "cell_type": "code",
   "execution_count": 4,
   "metadata": {},
   "outputs": [],
   "source": [
    "call = pd.read_excel(\"call.xlsx\")\n",
    "put = pd.read_excel(\"put.xlsx\")"
   ]
  },
  {
   "cell_type": "code",
   "execution_count": 5,
   "metadata": {},
   "outputs": [],
   "source": [
    "bsm = Pricing()\n",
    "o_strategy = OptionStrategy()"
   ]
  },
  {
   "cell_type": "code",
   "execution_count": 6,
   "metadata": {},
   "outputs": [
    {
     "name": "stdout",
     "output_type": "stream",
     "text": [
      " داده‌ای برایِ «ضفلا7033» وجود ندارد\r"
     ]
    }
   ],
   "source": [
    "bs_call = bsm.bs(call)\n",
    "bs_call.bs = bs_call.bs.round(1)"
   ]
  },
  {
   "cell_type": "code",
   "execution_count": 7,
   "metadata": {},
   "outputs": [],
   "source": [
    "columns = [\"j_date\", \"ticker\",\"o_ticker\", \"t\", \"bs\", \"strike_price\"] + [i for i in bs_call.columns if \"adj\" in i]\n",
    "df_bs_call = bs_call[columns][bs_call.o_adj_final > 0]"
   ]
  },
  {
   "cell_type": "code",
   "execution_count": 8,
   "metadata": {},
   "outputs": [
    {
     "name": "stdout",
     "output_type": "stream",
     "text": [
      " داده‌ای برایِ «طذوب3020» وجود ندارد\r"
     ]
    }
   ],
   "source": [
    "bs_put = bsm.bs(put)"
   ]
  },
  {
   "cell_type": "code",
   "execution_count": 9,
   "metadata": {},
   "outputs": [
    {
     "data": {
      "text/html": [
       "<div>\n",
       "<style scoped>\n",
       "    .dataframe tbody tr th:only-of-type {\n",
       "        vertical-align: middle;\n",
       "    }\n",
       "\n",
       "    .dataframe tbody tr th {\n",
       "        vertical-align: top;\n",
       "    }\n",
       "\n",
       "    .dataframe thead th {\n",
       "        text-align: right;\n",
       "    }\n",
       "</style>\n",
       "<table border=\"1\" class=\"dataframe\">\n",
       "  <thead>\n",
       "    <tr style=\"text-align: right;\">\n",
       "      <th></th>\n",
       "      <th>j_date</th>\n",
       "      <th>ticker</th>\n",
       "      <th>o_ticker</th>\n",
       "      <th>t</th>\n",
       "      <th>bs</th>\n",
       "      <th>strike_price</th>\n",
       "      <th>adj_open</th>\n",
       "      <th>adj_high</th>\n",
       "      <th>adj_low</th>\n",
       "      <th>adj_close</th>\n",
       "      <th>adj_final</th>\n",
       "      <th>o_adj_open</th>\n",
       "      <th>o_adj_high</th>\n",
       "      <th>o_adj_low</th>\n",
       "      <th>o_adj_close</th>\n",
       "      <th>o_adj_final</th>\n",
       "    </tr>\n",
       "  </thead>\n",
       "  <tbody>\n",
       "    <tr>\n",
       "      <th>126820</th>\n",
       "      <td>1401-11-30</td>\n",
       "      <td>خگستر</td>\n",
       "      <td>طستر2010</td>\n",
       "      <td>84</td>\n",
       "      <td>1338.3</td>\n",
       "      <td>5500.0</td>\n",
       "      <td>3745</td>\n",
       "      <td>3884</td>\n",
       "      <td>3735</td>\n",
       "      <td>3773</td>\n",
       "      <td>3795</td>\n",
       "      <td>850.0</td>\n",
       "      <td>850.0</td>\n",
       "      <td>850.0</td>\n",
       "      <td>850.0</td>\n",
       "      <td>850.0</td>\n",
       "    </tr>\n",
       "    <tr>\n",
       "      <th>126864</th>\n",
       "      <td>1401-12-06</td>\n",
       "      <td>خگستر</td>\n",
       "      <td>طستر2010</td>\n",
       "      <td>78</td>\n",
       "      <td>919.8</td>\n",
       "      <td>5500.0</td>\n",
       "      <td>4140</td>\n",
       "      <td>4308</td>\n",
       "      <td>4140</td>\n",
       "      <td>4308</td>\n",
       "      <td>4272</td>\n",
       "      <td>999.0</td>\n",
       "      <td>999.0</td>\n",
       "      <td>999.0</td>\n",
       "      <td>999.0</td>\n",
       "      <td>999.0</td>\n",
       "    </tr>\n",
       "    <tr>\n",
       "      <th>126900</th>\n",
       "      <td>1401-12-10</td>\n",
       "      <td>خگستر</td>\n",
       "      <td>طستر2008</td>\n",
       "      <td>74</td>\n",
       "      <td>369.6</td>\n",
       "      <td>4500.0</td>\n",
       "      <td>4289</td>\n",
       "      <td>4289</td>\n",
       "      <td>3993</td>\n",
       "      <td>3993</td>\n",
       "      <td>4077</td>\n",
       "      <td>500.0</td>\n",
       "      <td>500.0</td>\n",
       "      <td>500.0</td>\n",
       "      <td>500.0</td>\n",
       "      <td>500.0</td>\n",
       "    </tr>\n",
       "    <tr>\n",
       "      <th>126933</th>\n",
       "      <td>1401-12-15</td>\n",
       "      <td>خگستر</td>\n",
       "      <td>طستر2008</td>\n",
       "      <td>69</td>\n",
       "      <td>296.8</td>\n",
       "      <td>4500.0</td>\n",
       "      <td>4198</td>\n",
       "      <td>4300</td>\n",
       "      <td>4124</td>\n",
       "      <td>4184</td>\n",
       "      <td>4209</td>\n",
       "      <td>500.0</td>\n",
       "      <td>500.0</td>\n",
       "      <td>500.0</td>\n",
       "      <td>500.0</td>\n",
       "      <td>500.0</td>\n",
       "    </tr>\n",
       "    <tr>\n",
       "      <th>131286</th>\n",
       "      <td>1401-12-10</td>\n",
       "      <td>شبندر</td>\n",
       "      <td>طبدر2042</td>\n",
       "      <td>60</td>\n",
       "      <td>1683.7</td>\n",
       "      <td>13000.0</td>\n",
       "      <td>10680</td>\n",
       "      <td>10680</td>\n",
       "      <td>10010</td>\n",
       "      <td>10150</td>\n",
       "      <td>10340</td>\n",
       "      <td>2500.0</td>\n",
       "      <td>2500.0</td>\n",
       "      <td>2500.0</td>\n",
       "      <td>2500.0</td>\n",
       "      <td>2500.0</td>\n",
       "    </tr>\n",
       "  </tbody>\n",
       "</table>\n",
       "</div>"
      ],
      "text/plain": [
       "            j_date ticker  o_ticker   t      bs  strike_price  adj_open  \\\n",
       "126820  1401-11-30  خگستر  طستر2010  84  1338.3        5500.0      3745   \n",
       "126864  1401-12-06  خگستر  طستر2010  78   919.8        5500.0      4140   \n",
       "126900  1401-12-10  خگستر  طستر2008  74   369.6        4500.0      4289   \n",
       "126933  1401-12-15  خگستر  طستر2008  69   296.8        4500.0      4198   \n",
       "131286  1401-12-10  شبندر  طبدر2042  60  1683.7       13000.0     10680   \n",
       "\n",
       "        adj_high  adj_low  adj_close  adj_final  o_adj_open  o_adj_high  \\\n",
       "126820      3884     3735       3773       3795       850.0       850.0   \n",
       "126864      4308     4140       4308       4272       999.0       999.0   \n",
       "126900      4289     3993       3993       4077       500.0       500.0   \n",
       "126933      4300     4124       4184       4209       500.0       500.0   \n",
       "131286     10680    10010      10150      10340      2500.0      2500.0   \n",
       "\n",
       "        o_adj_low  o_adj_close  o_adj_final  \n",
       "126820      850.0        850.0        850.0  \n",
       "126864      999.0        999.0        999.0  \n",
       "126900      500.0        500.0        500.0  \n",
       "126933      500.0        500.0        500.0  \n",
       "131286     2500.0       2500.0       2500.0  "
      ]
     },
     "execution_count": 9,
     "metadata": {},
     "output_type": "execute_result"
    }
   ],
   "source": [
    "df_bs_put = bs_put[columns][bs_put.o_adj_final > 0]\n",
    "df_bs_put.bs = df_bs_put.bs.round(1)\n",
    "df_bs_put.tail()"
   ]
  },
  {
   "attachments": {},
   "cell_type": "markdown",
   "metadata": {},
   "source": [
    "### `covered call strategy`"
   ]
  },
  {
   "cell_type": "code",
   "execution_count": 11,
   "metadata": {},
   "outputs": [],
   "source": [
    "df_covered_call = o_strategy.covered_call(df_bs_call)\n",
    "df_covered_call.to_excel(\"rep_covered_call.xlsx\")"
   ]
  },
  {
   "attachments": {},
   "cell_type": "markdown",
   "metadata": {},
   "source": [
    "### `married put strategy`"
   ]
  },
  {
   "cell_type": "code",
   "execution_count": 12,
   "metadata": {},
   "outputs": [],
   "source": [
    "df_married_put = o_strategy.married_put(df_bs_put)\n",
    "df_married_put.to_excel(\"rep_married_put.xlsx\")"
   ]
  },
  {
   "attachments": {},
   "cell_type": "markdown",
   "metadata": {},
   "source": [
    "### `bull call spread strategy`"
   ]
  },
  {
   "cell_type": "code",
   "execution_count": 14,
   "metadata": {},
   "outputs": [
    {
     "data": {
      "text/html": [
       "<div>\n",
       "<style scoped>\n",
       "    .dataframe tbody tr th:only-of-type {\n",
       "        vertical-align: middle;\n",
       "    }\n",
       "\n",
       "    .dataframe tbody tr th {\n",
       "        vertical-align: top;\n",
       "    }\n",
       "\n",
       "    .dataframe thead th {\n",
       "        text-align: right;\n",
       "    }\n",
       "</style>\n",
       "<table border=\"1\" class=\"dataframe\">\n",
       "  <thead>\n",
       "    <tr style=\"text-align: right;\">\n",
       "      <th></th>\n",
       "      <th>o_ticker</th>\n",
       "      <th>strike_price</th>\n",
       "      <th>t</th>\n",
       "      <th>bs</th>\n",
       "      <th>adj_final</th>\n",
       "      <th>o_adj_final</th>\n",
       "      <th>max_ptnl_loss</th>\n",
       "      <th>max_ptnl_profit</th>\n",
       "      <th>current_profit</th>\n",
       "    </tr>\n",
       "  </thead>\n",
       "  <tbody>\n",
       "    <tr>\n",
       "      <th>0</th>\n",
       "      <td>(ضهرم1211, ضهرم1210)</td>\n",
       "      <td>(18000.0, 16000.0)</td>\n",
       "      <td>6</td>\n",
       "      <td>(344.9, 2335.6)</td>\n",
       "      <td>18270</td>\n",
       "      <td>(1180.0, 2074.0)</td>\n",
       "      <td>-894.0</td>\n",
       "      <td>1106.0</td>\n",
       "      <td>1106.0</td>\n",
       "    </tr>\n",
       "    <tr>\n",
       "      <th>1</th>\n",
       "      <td>(ضهرم1211, ضهرم1209)</td>\n",
       "      <td>(18000.0, 15000.0)</td>\n",
       "      <td>6</td>\n",
       "      <td>(344.9, 3331.5)</td>\n",
       "      <td>18270</td>\n",
       "      <td>(1180.0, 3092.0)</td>\n",
       "      <td>-1912.0</td>\n",
       "      <td>1088.0</td>\n",
       "      <td>1088.0</td>\n",
       "    </tr>\n",
       "    <tr>\n",
       "      <th>2</th>\n",
       "      <td>(ضهرم1211, ضهرم1208)</td>\n",
       "      <td>(18000.0, 14000.0)</td>\n",
       "      <td>6</td>\n",
       "      <td>(344.9, 4327.4)</td>\n",
       "      <td>18270</td>\n",
       "      <td>(1180.0, 3576.0)</td>\n",
       "      <td>-2396.0</td>\n",
       "      <td>1604.0</td>\n",
       "      <td>1604.0</td>\n",
       "    </tr>\n",
       "    <tr>\n",
       "      <th>3</th>\n",
       "      <td>(ضهرم1211, ضهرم1207)</td>\n",
       "      <td>(18000.0, 13000.0)</td>\n",
       "      <td>6</td>\n",
       "      <td>(344.9, 5323.3)</td>\n",
       "      <td>18270</td>\n",
       "      <td>(1180.0, 4739.0)</td>\n",
       "      <td>-3559.0</td>\n",
       "      <td>1441.0</td>\n",
       "      <td>1441.0</td>\n",
       "    </tr>\n",
       "    <tr>\n",
       "      <th>4</th>\n",
       "      <td>(ضهرم1211, ضهرم1206)</td>\n",
       "      <td>(18000.0, 12000.0)</td>\n",
       "      <td>6</td>\n",
       "      <td>(344.9, 6319.2)</td>\n",
       "      <td>18270</td>\n",
       "      <td>(1180.0, 5512.0)</td>\n",
       "      <td>-4332.0</td>\n",
       "      <td>1668.0</td>\n",
       "      <td>1668.0</td>\n",
       "    </tr>\n",
       "  </tbody>\n",
       "</table>\n",
       "</div>"
      ],
      "text/plain": [
       "               o_ticker        strike_price  t               bs  adj_final  \\\n",
       "0  (ضهرم1211, ضهرم1210)  (18000.0, 16000.0)  6  (344.9, 2335.6)      18270   \n",
       "1  (ضهرم1211, ضهرم1209)  (18000.0, 15000.0)  6  (344.9, 3331.5)      18270   \n",
       "2  (ضهرم1211, ضهرم1208)  (18000.0, 14000.0)  6  (344.9, 4327.4)      18270   \n",
       "3  (ضهرم1211, ضهرم1207)  (18000.0, 13000.0)  6  (344.9, 5323.3)      18270   \n",
       "4  (ضهرم1211, ضهرم1206)  (18000.0, 12000.0)  6  (344.9, 6319.2)      18270   \n",
       "\n",
       "        o_adj_final  max_ptnl_loss  max_ptnl_profit  current_profit  \n",
       "0  (1180.0, 2074.0)         -894.0           1106.0          1106.0  \n",
       "1  (1180.0, 3092.0)        -1912.0           1088.0          1088.0  \n",
       "2  (1180.0, 3576.0)        -2396.0           1604.0          1604.0  \n",
       "3  (1180.0, 4739.0)        -3559.0           1441.0          1441.0  \n",
       "4  (1180.0, 5512.0)        -4332.0           1668.0          1668.0  "
      ]
     },
     "execution_count": 14,
     "metadata": {},
     "output_type": "execute_result"
    }
   ],
   "source": [
    "bull_call_spread = o_strategy.bull_call_spread(bs_call[bs_call.j_date==\"1401-12-16\"])\n",
    "bull_call_spread.to_excel(\"rep_bull_call_spread.xlsx\")\n",
    "bull_call_spread.head()"
   ]
  },
  {
   "cell_type": "code",
   "execution_count": null,
   "metadata": {},
   "outputs": [],
   "source": [
    "\"https://optionstrategiesinsider.com/blog/28-option-strategies-that-all-options-traders-should-know/\""
   ]
  },
  {
   "attachments": {},
   "cell_type": "markdown",
   "metadata": {},
   "source": [
    "### `bear call spread strategy`"
   ]
  },
  {
   "cell_type": "code",
   "execution_count": 8,
   "metadata": {},
   "outputs": [
    {
     "data": {
      "text/html": [
       "<div>\n",
       "<style scoped>\n",
       "    .dataframe tbody tr th:only-of-type {\n",
       "        vertical-align: middle;\n",
       "    }\n",
       "\n",
       "    .dataframe tbody tr th {\n",
       "        vertical-align: top;\n",
       "    }\n",
       "\n",
       "    .dataframe thead th {\n",
       "        text-align: right;\n",
       "    }\n",
       "</style>\n",
       "<table border=\"1\" class=\"dataframe\">\n",
       "  <thead>\n",
       "    <tr style=\"text-align: right;\">\n",
       "      <th></th>\n",
       "      <th>o_ticker</th>\n",
       "      <th>strike_price</th>\n",
       "      <th>t</th>\n",
       "      <th>bs</th>\n",
       "      <th>adj_final</th>\n",
       "      <th>o_adj_final</th>\n",
       "      <th>max_ptnl_loss</th>\n",
       "      <th>max_ptnl_profit</th>\n",
       "      <th>current_profit</th>\n",
       "    </tr>\n",
       "  </thead>\n",
       "  <tbody>\n",
       "    <tr>\n",
       "      <th>0</th>\n",
       "      <td>(ضهرم1200, ضهرم1201)</td>\n",
       "      <td>(7000.0, 7500.0)</td>\n",
       "      <td>6</td>\n",
       "      <td>(11298.7, 10800.8)</td>\n",
       "      <td>18270</td>\n",
       "      <td>(10374.0, 9314.0)</td>\n",
       "      <td>560.0</td>\n",
       "      <td>1060.0</td>\n",
       "      <td>560.0</td>\n",
       "    </tr>\n",
       "    <tr>\n",
       "      <th>1</th>\n",
       "      <td>(ضهرم1200, ضهرم1202)</td>\n",
       "      <td>(7000.0, 8000.0)</td>\n",
       "      <td>6</td>\n",
       "      <td>(11298.7, 10302.8)</td>\n",
       "      <td>18270</td>\n",
       "      <td>(10374.0, 8974.0)</td>\n",
       "      <td>400.0</td>\n",
       "      <td>1400.0</td>\n",
       "      <td>400.0</td>\n",
       "    </tr>\n",
       "    <tr>\n",
       "      <th>2</th>\n",
       "      <td>(ضهرم1200, ضهرم1203)</td>\n",
       "      <td>(7000.0, 9000.0)</td>\n",
       "      <td>6</td>\n",
       "      <td>(11298.7, 9306.9)</td>\n",
       "      <td>18270</td>\n",
       "      <td>(10374.0, 8249.0)</td>\n",
       "      <td>125.0</td>\n",
       "      <td>2125.0</td>\n",
       "      <td>125.0</td>\n",
       "    </tr>\n",
       "    <tr>\n",
       "      <th>3</th>\n",
       "      <td>(ضهرم1200, ضهرم1204)</td>\n",
       "      <td>(7000.0, 10000.0)</td>\n",
       "      <td>6</td>\n",
       "      <td>(11298.7, 8311.0)</td>\n",
       "      <td>18270</td>\n",
       "      <td>(10374.0, 7875.0)</td>\n",
       "      <td>-501.0</td>\n",
       "      <td>2499.0</td>\n",
       "      <td>-501.0</td>\n",
       "    </tr>\n",
       "    <tr>\n",
       "      <th>4</th>\n",
       "      <td>(ضهرم1200, ضهرم1205)</td>\n",
       "      <td>(7000.0, 11000.0)</td>\n",
       "      <td>6</td>\n",
       "      <td>(11298.7, 7315.1)</td>\n",
       "      <td>18270</td>\n",
       "      <td>(10374.0, 6689.0)</td>\n",
       "      <td>-315.0</td>\n",
       "      <td>3685.0</td>\n",
       "      <td>-315.0</td>\n",
       "    </tr>\n",
       "  </tbody>\n",
       "</table>\n",
       "</div>"
      ],
      "text/plain": [
       "               o_ticker       strike_price  t                  bs  adj_final  \\\n",
       "0  (ضهرم1200, ضهرم1201)   (7000.0, 7500.0)  6  (11298.7, 10800.8)      18270   \n",
       "1  (ضهرم1200, ضهرم1202)   (7000.0, 8000.0)  6  (11298.7, 10302.8)      18270   \n",
       "2  (ضهرم1200, ضهرم1203)   (7000.0, 9000.0)  6   (11298.7, 9306.9)      18270   \n",
       "3  (ضهرم1200, ضهرم1204)  (7000.0, 10000.0)  6   (11298.7, 8311.0)      18270   \n",
       "4  (ضهرم1200, ضهرم1205)  (7000.0, 11000.0)  6   (11298.7, 7315.1)      18270   \n",
       "\n",
       "         o_adj_final  max_ptnl_loss  max_ptnl_profit  current_profit  \n",
       "0  (10374.0, 9314.0)          560.0           1060.0           560.0  \n",
       "1  (10374.0, 8974.0)          400.0           1400.0           400.0  \n",
       "2  (10374.0, 8249.0)          125.0           2125.0           125.0  \n",
       "3  (10374.0, 7875.0)         -501.0           2499.0          -501.0  \n",
       "4  (10374.0, 6689.0)         -315.0           3685.0          -315.0  "
      ]
     },
     "execution_count": 8,
     "metadata": {},
     "output_type": "execute_result"
    }
   ],
   "source": [
    "bear_call_spread = o_strategy.bear_call_spread(bs_call[bs_call.j_date==\"1401-12-16\"])\n",
    "bear_call_spread.to_excel(\"rep_bear_call_spread.xlsx\")\n",
    "bear_call_spread.head()"
   ]
  },
  {
   "cell_type": "code",
   "execution_count": 10,
   "metadata": {},
   "outputs": [],
   "source": [
    "from collections import namedtuple\n",
    "from itertools import combinations\n",
    "from operator import add"
   ]
  },
  {
   "cell_type": "code",
   "execution_count": 28,
   "metadata": {},
   "outputs": [],
   "source": [
    "def call_back_spread(df, times):\n",
    "    stg = namedtuple(\"Strategy\", \"buy sell\")\n",
    "    groups = df.groupby(by=[\"ticker\", \"t\"])\n",
    "    df_ = pd.DataFrame()\n",
    "    for name, group in groups:\n",
    "        group.reset_index(inplace=True)\n",
    "        group = group.sort_values(by=[\"strike_price\"], ascending=False)\n",
    "        if len(group) > 1:\n",
    "            combo_o_ticker = list(stg(buy=b, sell=s) for b, s in combinations(group.o_ticker, 2))\n",
    "            combo_strike_price = list(stg(buy=b, sell=s) for b, s in combinations(group.strike_price, 2))\n",
    "            combo_o_adj_final = list(stg(buy=b, sell=s) for b, s in combinations(group.o_adj_final, 2))\n",
    "            combo_bs = list(stg(buy=b, sell=s) for b, s in combinations(group.bs, 2))\n",
    "            premium = [-pb*times + ps for pb, ps in combo_o_adj_final]\n",
    "            max_pot_loss = list(map(add, [-sb + ss for sb, ss in combo_strike_price], premium))\n",
    "            current_profit = []\n",
    "            for i in range(len(combo_strike_price)):\n",
    "                if all(s >= group.adj_final.values[0] for s in combo_strike_price[i]):\n",
    "                    current_profit.append(premium[i])\n",
    "                elif combo_strike_price[i].buy >=group.adj_final.values[0]:\n",
    "                    current_profit.append(- group.adj_final.values[0] + combo_strike_price[i].sell + premium[i])\n",
    "                else:\n",
    "                    current_profit.append((- group.adj_final.values[0] + combo_strike_price[i].sell)+(group.adj_final.values[0] - combo_strike_price[i].buy)*times + premium[i])\n",
    "\n",
    "            df_group = pd.DataFrame({\n",
    "                \"o_ticker\": combo_o_ticker,\n",
    "                \"strike_price\": combo_strike_price,\n",
    "                \"t\": group.t.values[0],\n",
    "                \"bs\": combo_bs,\n",
    "                \"adj_final\": group.adj_final.values[0],\n",
    "                \"o_adj_final\": combo_o_adj_final,\n",
    "                \"max_pot_loss\": max_pot_loss,\n",
    "                \"current_profit\": current_profit,\n",
    "            })\n",
    "            df_ = pd.concat([df_, df_group])\n",
    "    return df_"
   ]
  },
  {
   "cell_type": "code",
   "execution_count": 32,
   "metadata": {},
   "outputs": [],
   "source": [
    "call_back_spread(df_bs_call[df_bs_call.j_date==\"1401-12-15\"], 2).to_excel(\"rep_call_back_spread.xlsx\")\n"
   ]
  },
  {
   "cell_type": "code",
   "execution_count": 31,
   "metadata": {},
   "outputs": [
    {
     "data": {
      "text/plain": [
       "-2048.0"
      ]
     },
     "execution_count": 31,
     "metadata": {},
     "output_type": "execute_result"
    }
   ],
   "source": [
    "16000.0 -  18000.0 + (- 594.0*2 +1140.0 )"
   ]
  },
  {
   "cell_type": "code",
   "execution_count": 23,
   "metadata": {},
   "outputs": [
    {
     "data": {
      "text/plain": [
       "742.0"
      ]
     },
     "execution_count": 23,
     "metadata": {},
     "output_type": "execute_result"
    }
   ],
   "source": [
    "4083.0 - 3341.0"
   ]
  },
  {
   "cell_type": "code",
   "execution_count": null,
   "metadata": {},
   "outputs": [],
   "source": []
  }
 ],
 "metadata": {
  "kernelspec": {
   "display_name": "Python 3",
   "language": "python",
   "name": "python3"
  },
  "language_info": {
   "codemirror_mode": {
    "name": "ipython",
    "version": 3
   },
   "file_extension": ".py",
   "mimetype": "text/x-python",
   "name": "python",
   "nbconvert_exporter": "python",
   "pygments_lexer": "ipython3",
   "version": "3.11.2"
  },
  "orig_nbformat": 4,
  "vscode": {
   "interpreter": {
    "hash": "b0fa6594d8f4cbf19f97940f81e996739fb7646882a419484c72d19e05852a7e"
   }
  }
 },
 "nbformat": 4,
 "nbformat_minor": 2
}
